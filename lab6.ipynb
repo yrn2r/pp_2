{
 "cells": [
  {
   "cell_type": "markdown",
   "id": "866cbf6a-5317-4ada-8bd3-c6919de7d2d7",
   "metadata": {},
   "source": [
    "Built-in functions"
   ]
  },
  {
   "cell_type": "code",
   "execution_count": 5,
   "id": "572c985a-aba4-4cb3-8fe8-597d27154a5d",
   "metadata": {},
   "outputs": [
    {
     "name": "stdin",
     "output_type": "stream",
     "text": [
      " 2 5 6 3\n"
     ]
    },
    {
     "name": "stdout",
     "output_type": "stream",
     "text": [
      "180\n"
     ]
    }
   ],
   "source": [
    "import math\n",
    "\n",
    "l = list(map(int,input().split()))\n",
    "print(math.prod(l))"
   ]
  },
  {
   "cell_type": "code",
   "execution_count": 6,
   "id": "0c66ab1a-78f9-438a-bf63-14dc13748da5",
   "metadata": {},
   "outputs": [
    {
     "name": "stdin",
     "output_type": "stream",
     "text": [
      " Hello World\n"
     ]
    },
    {
     "name": "stdout",
     "output_type": "stream",
     "text": [
      "2 8\n"
     ]
    }
   ],
   "source": [
    "def up_low(s):\n",
    "    u = sum([1 for i in s if i.isupper()])\n",
    "    l = sum([1 for i in s if i.islower()])\n",
    "    print(u, l )\n",
    "s = input()\n",
    "up_low(s)"
   ]
  },
  {
   "cell_type": "code",
   "execution_count": 7,
   "id": "5a7f8fd1-776e-4800-914f-2e69b2e03f06",
   "metadata": {},
   "outputs": [
    {
     "name": "stdin",
     "output_type": "stream",
     "text": [
      " qazaq\n"
     ]
    },
    {
     "name": "stdout",
     "output_type": "stream",
     "text": [
      "True\n"
     ]
    }
   ],
   "source": [
    "from operator import truediv\n",
    "n = input()\n",
    "l = ''.join(reversed(n))\n",
    "if n == l: \n",
    "    print(True)\n",
    "else:\n",
    "    print(False)"
   ]
  },
  {
   "cell_type": "code",
   "execution_count": 10,
   "id": "7843691c-bbf0-4d0c-af5c-6bfaff490d25",
   "metadata": {},
   "outputs": [
    {
     "name": "stdin",
     "output_type": "stream",
     "text": [
      " 25100 \n",
      " 1\n"
     ]
    },
    {
     "name": "stdout",
     "output_type": "stream",
     "text": [
      "Square root of 25100 after 1 miliseconds is 158.42979517754858\n"
     ]
    }
   ],
   "source": [
    "import time \n",
    "import math \n",
    "number=int(input()) \n",
    "delay=int(input()) \n",
    " \n",
    "time.sleep(delay*0.001) \n",
    "answer=\"Square root of {} after {} miliseconds is {}\" \n",
    "print(answer.format(number, delay,number**0.5)) "
   ]
  },
  {
   "cell_type": "code",
   "execution_count": 12,
   "id": "f5b76272-cc8b-479d-b633-cd7e082f09fa",
   "metadata": {},
   "outputs": [
    {
     "name": "stdout",
     "output_type": "stream",
     "text": [
      "False\n"
     ]
    }
   ],
   "source": [
    "def myfunction(array): \n",
    "  for i in array: \n",
    "    if i == 0: return False \n",
    "  return True \n",
    " \n",
    "myarray=[1, 2, 3, 4, 0] \n",
    "print(myfunction(myarray)) "
   ]
  },
  {
   "cell_type": "markdown",
   "id": "b8fda339-a5e2-420f-9a54-923431f6654f",
   "metadata": {},
   "source": [
    "Directories and Files "
   ]
  },
  {
   "cell_type": "code",
   "execution_count": 16,
   "id": "d3452123-a8d3-4062-9df6-a771cae2504d",
   "metadata": {},
   "outputs": [
    {
     "name": "stdout",
     "output_type": "stream",
     "text": [
      "Only directories:\n",
      "[]\n",
      "Only files:\n",
      "['pp2.doc']\n",
      "All directories and files :\n",
      "['pp2.doc']\n"
     ]
    }
   ],
   "source": [
    "import os\n",
    "\n",
    "p = r'C:\\Users\\User\\pp2'\n",
    "\n",
    "print(\"Only directories:\")\n",
    "print([name for name in os.listdir(p) if os.path.isdir(os.path.join(p, name))])\n",
    "print(\"Only files:\")\n",
    "print([name for name in os.listdir(p) if not os.path.isdir(os.path.join(p, name))])\n",
    "print(\"All directories and files :\")\n",
    "print([ name for name in os.listdir(p)])"
   ]
  },
  {
   "cell_type": "code",
   "execution_count": 20,
   "id": "217adf9e-7585-43ef-bb75-722b17b2c077",
   "metadata": {},
   "outputs": [
    {
     "name": "stdout",
     "output_type": "stream",
     "text": [
      "Path 'C:\\Users\\User\\pp2' exists\n",
      "Readable: True\n",
      "Writable: True\n",
      "Executable: True\n"
     ]
    }
   ],
   "source": [
    "import os\n",
    "\n",
    "p = r\"C:\\Users\\User\\pp2\"  \n",
    "\n",
    "if os.path.exists(p):\n",
    "    print(f\"Path '{p}' exists\")\n",
    "    print(f\"Readable: {os.access(p, os.R_OK)}\")\n",
    "    print(f\"Writable: {os.access(p, os.W_OK)}\")\n",
    "    print(f\"Executable: {os.access(p, os.X_OK)}\")\n",
    "else:\n",
    "    print(f\"Path '{p}' does NOT exist\")"
   ]
  },
  {
   "cell_type": "code",
   "execution_count": 21,
   "id": "8d6efaee-26da-4066-a4f6-f6d441108b5b",
   "metadata": {},
   "outputs": [
    {
     "name": "stdout",
     "output_type": "stream",
     "text": [
      "Path 'C:\\Users\\User\\pp2\\pp2.doc' exists\n",
      "Directory: C:\\Users\\User\\pp2\n",
      "File: pp2.doc\n"
     ]
    }
   ],
   "source": [
    "import os\n",
    "\n",
    "p = r\"C:\\Users\\User\\pp2\\pp2.doc\" \n",
    "if os.path.exists(p):\n",
    "    print(f\"Path '{p}' exists\")\n",
    "    print(f\"Directory: {os.path.dirname(p)}\")\n",
    "    print(f\"File: {os.path.basename(p)}\")\n",
    "else:\n",
    "    print(f\"Path '{p}' does NOT exist\")"
   ]
  },
  {
   "cell_type": "code",
   "execution_count": 2,
   "id": "018691ca-8b78-49f1-8282-f9b4c730c922",
   "metadata": {},
   "outputs": [
    {
     "name": "stdout",
     "output_type": "stream",
     "text": [
      "26\n"
     ]
    }
   ],
   "source": [
    "import os\n",
    "\n",
    "with open(r\"/Users/User/6.cpp\", 'r') as f:\n",
    "    l = sum(1 for line in f)\n",
    "print(l)\n"
   ]
  },
  {
   "cell_type": "code",
   "execution_count": 3,
   "id": "62ac9324-7c86-4f64-a5d0-cd504e335a62",
   "metadata": {},
   "outputs": [
    {
     "name": "stdout",
     "output_type": "stream",
     "text": [
      "1\n",
      "2\n",
      "3\n",
      "4\n",
      "\n"
     ]
    }
   ],
   "source": [
    "l = ['1', '2', '3', '4']\n",
    "\n",
    "with open('/Users/User/pp2/pp2.doc', \"w\") as myfile:\n",
    "    for i in l:\n",
    "        myfile.write(\"%s\\n\" % i)\n",
    "\n",
    "txt = open('/Users/User/pp2/pp2.doc')\n",
    "print(txt.read())"
   ]
  },
  {
   "cell_type": "code",
   "execution_count": 8,
   "id": "39f497bb-8ce1-4555-9b33-8c03c02f54b7",
   "metadata": {},
   "outputs": [
    {
     "name": "stdout",
     "output_type": "stream",
     "text": [
      "All files were successfully created in: Users/User\n"
     ]
    }
   ],
   "source": [
    "import string, os\n",
    "folder = \"Users/User\"\n",
    "for letter in string.ascii_uppercase:\n",
    "   with open(letter + \".txt\", \"w\") as f:\n",
    "       f.writelines(letter)\n",
    "print(\"All files were successfully created in:\",folder )"
   ]
  },
  {
   "cell_type": "code",
   "execution_count": 10,
   "id": "ce46800e-1844-4d37-8490-d86facd61018",
   "metadata": {},
   "outputs": [
    {
     "name": "stdout",
     "output_type": "stream",
     "text": [
      "Successfully copied!\n"
     ]
    }
   ],
   "source": [
    "with open('/Users/User/pp2/pp2.doc', \"r\") as ffile, open('C:\\\\Users\\\\User\\\\A.txt', \"w\") as sfile:\n",
    "    for line in ffile:\n",
    "        sfile.write(line)\n",
    "print(\"Successfully copied!\")"
   ]
  },
  {
   "cell_type": "code",
   "execution_count": 11,
   "id": "2f760398-b6d3-4f42-af6a-edfac723a694",
   "metadata": {},
   "outputs": [
    {
     "name": "stdout",
     "output_type": "stream",
     "text": [
      "Successfully deleted.\n"
     ]
    }
   ],
   "source": [
    "import os\n",
    "f = 'B.txt'\n",
    "loc = '/Users/User' \n",
    "p = os.path.join(loc, f) \n",
    "if os.path.exists(p):\n",
    "    os.remove(p)\n",
    "    print(\"Successfully deleted.\")\n",
    "else:\n",
    "    print(\"Does not exist.\")\n"
   ]
  }
 ],
 "metadata": {
  "kernelspec": {
   "display_name": "Python 3 (ipykernel)",
   "language": "python",
   "name": "python3"
  },
  "language_info": {
   "codemirror_mode": {
    "name": "ipython",
    "version": 3
   },
   "file_extension": ".py",
   "mimetype": "text/x-python",
   "name": "python",
   "nbconvert_exporter": "python",
   "pygments_lexer": "ipython3",
   "version": "3.12.7"
  }
 },
 "nbformat": 4,
 "nbformat_minor": 5
}
