{
 "cells": [
  {
   "cell_type": "code",
   "execution_count": 1,
   "id": "117dbd79-7655-4021-b72e-e576eaebbf42",
   "metadata": {},
   "outputs": [
    {
     "name": "stdin",
     "output_type": "stream",
     "text": [
      " abb\n"
     ]
    },
    {
     "name": "stdout",
     "output_type": "stream",
     "text": [
      "A match!\n"
     ]
    }
   ],
   "source": [
    "import re\n",
    "def text_match(s):\n",
    "    patterns = '^a(b*)$'\n",
    "    if re.search(patterns, s):\n",
    "        return 'A match!'\n",
    "    else:\n",
    "        return ('Not a match!')\n",
    "s = input()\n",
    "print(text_match(s))"
   ]
  },
  {
   "cell_type": "code",
   "execution_count": 5,
   "id": "e9e3f6b0-e84b-45c8-89f2-a76582fb7572",
   "metadata": {},
   "outputs": [
    {
     "name": "stdin",
     "output_type": "stream",
     "text": [
      " abbb\n"
     ]
    },
    {
     "name": "stdout",
     "output_type": "stream",
     "text": [
      "A match!\n"
     ]
    }
   ],
   "source": [
    "import re\n",
    "def text_match(s):\n",
    "    pattern = r'^ab{2,3}$'  \n",
    "    return 'A match!' if re.fullmatch(pattern, s) else 'Not a match!'\n",
    "\n",
    "s = input()\n",
    "print(text_match(s))"
   ]
  },
  {
   "cell_type": "code",
   "execution_count": 7,
   "id": "e54149f3-3b9a-4cef-a916-5899e43aaad7",
   "metadata": {},
   "outputs": [
    {
     "name": "stdin",
     "output_type": "stream",
     "text": [
      " a_d\n"
     ]
    },
    {
     "name": "stdout",
     "output_type": "stream",
     "text": [
      "A match!\n"
     ]
    }
   ],
   "source": [
    "import re\n",
    "def text_match(s):\n",
    "    pattern = r'[a-z]+_[a-z]+'\n",
    "    return 'A match!' if re.search(pattern, s) else 'Not a match!'\n",
    "s = input()\n",
    "print(text_match(s))"
   ]
  },
  {
   "cell_type": "code",
   "execution_count": 8,
   "id": "297cfc1d-8c34-40ed-88b2-03764f66e572",
   "metadata": {},
   "outputs": [
    {
     "name": "stdin",
     "output_type": "stream",
     "text": [
      " Hello \n"
     ]
    },
    {
     "name": "stdout",
     "output_type": "stream",
     "text": [
      "A match!\n"
     ]
    }
   ],
   "source": [
    "import re\n",
    "def text_match(s):\n",
    "    pattern = r'[A-Z][a-z]+'\n",
    "    return 'A match!' if re.search(pattern, s) else 'Not a match!'\n",
    "s = input()\n",
    "print(text_match(s))"
   ]
  },
  {
   "cell_type": "code",
   "execution_count": 9,
   "id": "1e9d9e04-fadf-4b19-be42-184802dfd75e",
   "metadata": {},
   "outputs": [
    {
     "name": "stdin",
     "output_type": "stream",
     "text": [
      " asb\n"
     ]
    },
    {
     "name": "stdout",
     "output_type": "stream",
     "text": [
      "A match!\n"
     ]
    }
   ],
   "source": [
    "import re\n",
    "def text_match(s):\n",
    "    pattern = r'^a.*b$'  \n",
    "    return 'A match!' if re.fullmatch(pattern, s) else 'Not a match!'\n",
    "s = input()\n",
    "print(text_match(s))"
   ]
  },
  {
   "cell_type": "code",
   "execution_count": 10,
   "id": "6d64fbbe-104e-4dcf-a41f-b6378e2ed5ff",
   "metadata": {},
   "outputs": [
    {
     "name": "stdin",
     "output_type": "stream",
     "text": [
      " Hello World.\n"
     ]
    },
    {
     "name": "stdout",
     "output_type": "stream",
     "text": [
      "Hello:World:\n"
     ]
    }
   ],
   "source": [
    "import re\n",
    "def text_replace(s):\n",
    "    pattern = '[ .,]'\n",
    "    res = re.sub(pattern, \":\", s)\n",
    "    print(res)\n",
    "s = input()\n",
    "text_replace(s)"
   ]
  },
  {
   "cell_type": "code",
   "execution_count": 12,
   "id": "c16ac183-5947-4422-a646-28ad914d49a6",
   "metadata": {},
   "outputs": [
    {
     "name": "stdin",
     "output_type": "stream",
     "text": [
      " hello_world_!\n"
     ]
    },
    {
     "name": "stdout",
     "output_type": "stream",
     "text": [
      "helloWorld!\n"
     ]
    }
   ],
   "source": [
    "import re\n",
    "def snake_to_camel(s):\n",
    "    words = s.split('_')  \n",
    "    return words[0] + ''.join(word.capitalize() for word in words[1:]) \n",
    "snake = input()\n",
    "print(snake_to_camel(snake))"
   ]
  },
  {
   "cell_type": "code",
   "execution_count": 13,
   "id": "fd7919a1-b663-41a9-baa5-939825d7c474",
   "metadata": {},
   "outputs": [
    {
     "name": "stdin",
     "output_type": "stream",
     "text": [
      " HelloWorld\n"
     ]
    },
    {
     "name": "stdout",
     "output_type": "stream",
     "text": [
      "Hello World\n"
     ]
    }
   ],
   "source": [
    "import re\n",
    "def split_upper(s):\n",
    "    words = re.findall(r'[A-Z][a-z]*', s) \n",
    "    return ' '.join(words)  \n",
    "s = input()\n",
    "print(split_upper(s))"
   ]
  },
  {
   "cell_type": "code",
   "execution_count": 14,
   "id": "4c80fedc-d735-4ed6-b06f-efde68d2d41a",
   "metadata": {},
   "outputs": [
    {
     "name": "stdin",
     "output_type": "stream",
     "text": [
      " helloWorld\n"
     ]
    },
    {
     "name": "stdout",
     "output_type": "stream",
     "text": [
      "hello World\n"
     ]
    }
   ],
   "source": [
    "import re\n",
    "s = input()\n",
    "s = re.sub(r\"([a-z])([A-Z])\", r\"\\1 \\2\", s)\n",
    "print(s)"
   ]
  },
  {
   "cell_type": "code",
   "execution_count": 15,
   "id": "b32a3c23-96e8-48a0-961c-45d7a9d17333",
   "metadata": {},
   "outputs": [
    {
     "name": "stdin",
     "output_type": "stream",
     "text": [
      " ThisIsTheTest\n"
     ]
    },
    {
     "name": "stdout",
     "output_type": "stream",
     "text": [
      "this_is_the_test\n"
     ]
    }
   ],
   "source": [
    "import re\n",
    "def camel_to_snake(s):\n",
    "    s = re.sub(r'([a-z])([A-Z])', r'\\1_\\2', s) \n",
    "    return s.lower()  \n",
    "s = input()\n",
    "print(camel_to_snake(s))"
   ]
  }
 ],
 "metadata": {
  "kernelspec": {
   "display_name": "Python 3 (ipykernel)",
   "language": "python",
   "name": "python3"
  },
  "language_info": {
   "codemirror_mode": {
    "name": "ipython",
    "version": 3
   },
   "file_extension": ".py",
   "mimetype": "text/x-python",
   "name": "python",
   "nbconvert_exporter": "python",
   "pygments_lexer": "ipython3",
   "version": "3.12.7"
  }
 },
 "nbformat": 4,
 "nbformat_minor": 5
}
