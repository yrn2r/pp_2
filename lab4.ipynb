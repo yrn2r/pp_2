{
 "cells": [
  {
   "cell_type": "markdown",
   "id": "636bf614-583c-47af-9b28-cd670dddeb17",
   "metadata": {},
   "source": [
    "Date"
   ]
  },
  {
   "cell_type": "code",
   "execution_count": 1,
   "id": "3a81b134-4f11-4617-b8d6-b5e5e4beae08",
   "metadata": {},
   "outputs": [
    {
     "name": "stdout",
     "output_type": "stream",
     "text": [
      "2025-02-19\n",
      "2025-02-14\n"
     ]
    }
   ],
   "source": [
    "import datetime\n",
    "n = datetime.date.today()\n",
    "kun = datetime.timedelta(days = 5)\n",
    "print (n)\n",
    "print( n - kun)"
   ]
  },
  {
   "cell_type": "code",
   "execution_count": 2,
   "id": "f39b8261-7255-4050-8139-27cb761c971e",
   "metadata": {},
   "outputs": [
    {
     "name": "stdout",
     "output_type": "stream",
     "text": [
      "today:  2025-02-19\n",
      "yesterday:  2025-02-18\n",
      "tomorrow:  2025-02-20\n"
     ]
    }
   ],
   "source": [
    "import datetime\n",
    "n = datetime.date.today()\n",
    "kun = datetime.timedelta(days = 1)\n",
    "print (\"today: \" , n)\n",
    "print(\"yesterday: \" , n - kun)\n",
    "print(\"tomorrow: \" , n +kun)"
   ]
  },
  {
   "cell_type": "code",
   "execution_count": 3,
   "id": "0ca9257a-8904-471d-95dd-2a4993a7cfa0",
   "metadata": {},
   "outputs": [
    {
     "name": "stdin",
     "output_type": "stream",
     "text": [
      " 2024 2 19 14 30 45 500000 \n"
     ]
    },
    {
     "name": "stdout",
     "output_type": "stream",
     "text": [
      "2024-02-19 14:30:45\n"
     ]
    }
   ],
   "source": [
    "import datetime\n",
    "y, m, d, h, min, s, ms = map(int, input().split())\n",
    "n = datetime.datetime(y, m, d, h, min, s, ms).replace(microsecond = 0)\n",
    "print(n)"
   ]
  },
  {
   "cell_type": "code",
   "execution_count": 8,
   "id": "82f67f31-0499-43cf-818a-e054028dc088",
   "metadata": {},
   "outputs": [
    {
     "name": "stdin",
     "output_type": "stream",
     "text": [
      " 2024 2 19 14 30 0\n",
      " 2024 2 18 12 0 0\n"
     ]
    },
    {
     "name": "stdout",
     "output_type": "stream",
     "text": [
      "95400.0\n"
     ]
    }
   ],
   "source": [
    "import datetime\n",
    "y, m, d, h, min, s = map(int, input().split())\n",
    "data1 =  datetime.datetime(y, m, d, h, min, s)\n",
    "y, m, d, h, min, s = map(int, input().split())\n",
    "data2 =  datetime.datetime(y, m, d, h, min, s)\n",
    "s = (data1 - data2).total_seconds()\n",
    "print(s)"
   ]
  },
  {
   "cell_type": "markdown",
   "id": "d26f2340-b1b5-4db2-ad13-0ddf2dbc5ed5",
   "metadata": {},
   "source": [
    "Generators"
   ]
  },
  {
   "cell_type": "code",
   "execution_count": 12,
   "id": "f8ae09b0-12de-4c35-9cc8-1f26ad371847",
   "metadata": {},
   "outputs": [
    {
     "name": "stdin",
     "output_type": "stream",
     "text": [
      " 15\n"
     ]
    },
    {
     "name": "stdout",
     "output_type": "stream",
     "text": [
      "0 1 4 9 16 25 36 49 64 81 100 121 144 169 196 225 "
     ]
    }
   ],
   "source": [
    "n = int(input())\n",
    "def kvadrat (n):\n",
    "    for i in range (n+1):\n",
    "        yield i*i\n",
    "for i in kvadrat(n):\n",
    "    print(i, end =' ')"
   ]
  },
  {
   "cell_type": "code",
   "execution_count": 16,
   "id": "edbd43a8-7dd1-45b6-a2e3-f296af60f4ab",
   "metadata": {},
   "outputs": [
    {
     "name": "stdin",
     "output_type": "stream",
     "text": [
      " 23\n"
     ]
    },
    {
     "name": "stdout",
     "output_type": "stream",
     "text": [
      "0, 2, 4, 6, 8, 10, 12, 14, 16, 18, 20, 22, "
     ]
    }
   ],
   "source": [
    "n = int(input())\n",
    "def jup_san (n):\n",
    "    for i in range (n+1):\n",
    "        if not i % 2:\n",
    "           yield i\n",
    "for i in jup_san(n):\n",
    "    print(i, end =', ')"
   ]
  },
  {
   "cell_type": "code",
   "execution_count": 17,
   "id": "7c0f72c9-5179-429e-a124-e5d81c240b4a",
   "metadata": {},
   "outputs": [
    {
     "name": "stdin",
     "output_type": "stream",
     "text": [
      " 54\n"
     ]
    },
    {
     "name": "stdout",
     "output_type": "stream",
     "text": [
      "0, 12, 24, 36, 48, "
     ]
    }
   ],
   "source": [
    "n = int(input())\n",
    "def trichetyre (n):\n",
    "    for i in range (n+1):\n",
    "        if not i %3 and not i%4:\n",
    "           yield i\n",
    "for i in trichetyre(n):\n",
    "    print(i, end =', ')"
   ]
  },
  {
   "cell_type": "code",
   "execution_count": 19,
   "id": "8635a4b7-131d-481d-87e0-62a55615e35f",
   "metadata": {},
   "outputs": [
    {
     "name": "stdin",
     "output_type": "stream",
     "text": [
      " 4\n",
      " 12\n"
     ]
    },
    {
     "name": "stdout",
     "output_type": "stream",
     "text": [
      "16 25 36 49 64 81 100 121 144 "
     ]
    }
   ],
   "source": [
    "a = int(input())\n",
    "n = int(input())\n",
    "def squares (a,n):\n",
    "    for i in range (a,n+1):\n",
    "        yield i*i\n",
    "for i in squares(a,n):\n",
    "    print(i, end =' ')"
   ]
  },
  {
   "cell_type": "code",
   "execution_count": 21,
   "id": "f1801226-62a7-4f19-94a8-3f53cd197dea",
   "metadata": {},
   "outputs": [
    {
     "name": "stdin",
     "output_type": "stream",
     "text": [
      " 12\n"
     ]
    },
    {
     "name": "stdout",
     "output_type": "stream",
     "text": [
      "12 11 10 9 8 7 6 5 4 3 2 1 0 "
     ]
    }
   ],
   "source": [
    "n = int(input())\n",
    "def kersinwe (n):\n",
    "    for i in range (n+1):\n",
    "        yield i\n",
    "for i in kersinwe(n):\n",
    "    print(n-i, end =' ')"
   ]
  },
  {
   "cell_type": "markdown",
   "id": "bb2182b4-973f-4990-8b48-baeb0af9c44b",
   "metadata": {},
   "source": [
    "Math"
   ]
  },
  {
   "cell_type": "code",
   "execution_count": 27,
   "id": "94708604-1472-4135-b40e-3df14994d7c1",
   "metadata": {},
   "outputs": [
    {
     "name": "stdin",
     "output_type": "stream",
     "text": [
      " 58\n"
     ]
    },
    {
     "name": "stdout",
     "output_type": "stream",
     "text": [
      "1.0122909661567112\n"
     ]
    }
   ],
   "source": [
    "import math\n",
    "n = int(input())\n",
    "print(math.radians(n))"
   ]
  },
  {
   "cell_type": "code",
   "execution_count": 29,
   "id": "294fe56b-8e15-49c7-a9fd-5d6a3f6f087b",
   "metadata": {},
   "outputs": [
    {
     "name": "stdin",
     "output_type": "stream",
     "text": [
      "height:  14\n",
      "first base:  12\n",
      "second base:  8\n"
     ]
    },
    {
     "name": "stdout",
     "output_type": "stream",
     "text": [
      "area: 140.0\n"
     ]
    }
   ],
   "source": [
    "from pickletools import float8\n",
    "h = float(input(\"height: \"))\n",
    "b1 = float(input(\"first base: \"))\n",
    "b2 = float(input(\"second base: \"))\n",
    "print(\"area:\" , (b1+b2)*h/2)"
   ]
  },
  {
   "cell_type": "code",
   "execution_count": 30,
   "id": "f5706338-9575-43f5-af15-891034e72ec8",
   "metadata": {},
   "outputs": [
    {
     "name": "stdin",
     "output_type": "stream",
     "text": [
      "number of sides:  3\n",
      "the length of a side:  14\n"
     ]
    },
    {
     "name": "stdout",
     "output_type": "stream",
     "text": [
      "The area of the polygon is:  85\n"
     ]
    }
   ],
   "source": [
    "import math\n",
    "from math import pi, tan\n",
    "sides = int(input(\"number of sides: \"))\n",
    "length = int(input(\"the length of a side: \"))\n",
    "area = sides * (length**2)/(4*tan(pi / sides))\n",
    "print(\"The area of the polygon is: \", round(area))"
   ]
  },
  {
   "cell_type": "code",
   "execution_count": 31,
   "id": "60efcc49-155a-494f-8b26-950227b81f0c",
   "metadata": {},
   "outputs": [
    {
     "name": "stdin",
     "output_type": "stream",
     "text": [
      "length of base:  14\n",
      "heigth of parallelogram:  9\n"
     ]
    },
    {
     "name": "stdout",
     "output_type": "stream",
     "text": [
      "area of parallelogram:  126.0\n"
     ]
    }
   ],
   "source": [
    "import math\n",
    "l = float(input(\"length of base: \"))\n",
    "h = float(input(\"heigth of parallelogram: \"))\n",
    "print(\"area of parallelogram: \", h*l)"
   ]
  },
  {
   "cell_type": "markdown",
   "id": "371e8871-6a0b-4887-8afe-c597e460c503",
   "metadata": {},
   "source": [
    "JSON"
   ]
  },
  {
   "cell_type": "code",
   "execution_count": 15,
   "id": "9e0f1703-3bc0-4513-8699-a21bf795a4b1",
   "metadata": {},
   "outputs": [
    {
     "ename": "FileNotFoundError",
     "evalue": "[Errno 2] No such file or directory: 'sample-data.json'",
     "output_type": "error",
     "traceback": [
      "\u001b[1;31m---------------------------------------------------------------------------\u001b[0m",
      "\u001b[1;31mFileNotFoundError\u001b[0m                         Traceback (most recent call last)",
      "Cell \u001b[1;32mIn[15], line 3\u001b[0m\n\u001b[0;32m      1\u001b[0m \u001b[38;5;28;01mimport\u001b[39;00m \u001b[38;5;21;01mjson\u001b[39;00m\n\u001b[0;32m      2\u001b[0m file_path \u001b[38;5;241m=\u001b[39m \u001b[38;5;124m\"\u001b[39m\u001b[38;5;124m/mnt/data/sample-data.json\u001b[39m\u001b[38;5;124m\"\u001b[39m\n\u001b[1;32m----> 3\u001b[0m \u001b[38;5;28;01mwith\u001b[39;00m \u001b[38;5;28mopen\u001b[39m(\u001b[38;5;124m\"\u001b[39m\u001b[38;5;124msample-data.json\u001b[39m\u001b[38;5;124m\"\u001b[39m, \u001b[38;5;124m\"\u001b[39m\u001b[38;5;124mr\u001b[39m\u001b[38;5;124m\"\u001b[39m) \u001b[38;5;28;01mas\u001b[39;00m file:\n\u001b[0;32m      4\u001b[0m     data \u001b[38;5;241m=\u001b[39m json\u001b[38;5;241m.\u001b[39mload(file)\n\u001b[0;32m      5\u001b[0m \u001b[38;5;28mprint\u001b[39m(\u001b[38;5;124m\"\u001b[39m\u001b[38;5;124mInterface Status\u001b[39m\u001b[38;5;124m\"\u001b[39m)\n",
      "File \u001b[1;32m~\\anaconda3\\Lib\\site-packages\\IPython\\core\\interactiveshell.py:324\u001b[0m, in \u001b[0;36m_modified_open\u001b[1;34m(file, *args, **kwargs)\u001b[0m\n\u001b[0;32m    317\u001b[0m \u001b[38;5;28;01mif\u001b[39;00m file \u001b[38;5;129;01min\u001b[39;00m {\u001b[38;5;241m0\u001b[39m, \u001b[38;5;241m1\u001b[39m, \u001b[38;5;241m2\u001b[39m}:\n\u001b[0;32m    318\u001b[0m     \u001b[38;5;28;01mraise\u001b[39;00m \u001b[38;5;167;01mValueError\u001b[39;00m(\n\u001b[0;32m    319\u001b[0m         \u001b[38;5;124mf\u001b[39m\u001b[38;5;124m\"\u001b[39m\u001b[38;5;124mIPython won\u001b[39m\u001b[38;5;124m'\u001b[39m\u001b[38;5;124mt let you open fd=\u001b[39m\u001b[38;5;132;01m{\u001b[39;00mfile\u001b[38;5;132;01m}\u001b[39;00m\u001b[38;5;124m by default \u001b[39m\u001b[38;5;124m\"\u001b[39m\n\u001b[0;32m    320\u001b[0m         \u001b[38;5;124m\"\u001b[39m\u001b[38;5;124mas it is likely to crash IPython. If you know what you are doing, \u001b[39m\u001b[38;5;124m\"\u001b[39m\n\u001b[0;32m    321\u001b[0m         \u001b[38;5;124m\"\u001b[39m\u001b[38;5;124myou can use builtins\u001b[39m\u001b[38;5;124m'\u001b[39m\u001b[38;5;124m open.\u001b[39m\u001b[38;5;124m\"\u001b[39m\n\u001b[0;32m    322\u001b[0m     )\n\u001b[1;32m--> 324\u001b[0m \u001b[38;5;28;01mreturn\u001b[39;00m io_open(file, \u001b[38;5;241m*\u001b[39margs, \u001b[38;5;241m*\u001b[39m\u001b[38;5;241m*\u001b[39mkwargs)\n",
      "\u001b[1;31mFileNotFoundError\u001b[0m: [Errno 2] No such file or directory: 'sample-data.json'"
     ]
    }
   ],
   "source": [
    "import json\n",
    "file_path = \"/mnt/data/sample-data.json\"\n",
    "with open(\"sample-data.json\", \"r\") as file:\n",
    "    data = json.load(file)\n",
    "print(\"Interface Status\")\n",
    "print(\"=\" * 80)\n",
    "print(f\"{'DN':<50} {'Description':<20} {'Speed':<8} {'MTU':<6}\")\n",
    "print(\"-\" * 80)\n",
    "for item in data[\"imdata\"]:\n",
    "    attributes = item[\"l1PhysIf\"][\"attributes\"]\n",
    "    dn = attributes[\"dn\"]\n",
    "    descr = attributes.get(\"descr\", \"\")  \n",
    "    speed = attributes[\"speed\"]\n",
    "    mtu = attributes[\"mtu\"]\n",
    "    \n",
    "    print(f\"{dn:<50} {descr:<20} {speed:<8} {mtu:<6}\")"
   ]
  }
 ],
 "metadata": {
  "kernelspec": {
   "display_name": "Python 3 (ipykernel)",
   "language": "python",
   "name": "python3"
  },
  "language_info": {
   "codemirror_mode": {
    "name": "ipython",
    "version": 3
   },
   "file_extension": ".py",
   "mimetype": "text/x-python",
   "name": "python",
   "nbconvert_exporter": "python",
   "pygments_lexer": "ipython3",
   "version": "3.12.7"
  }
 },
 "nbformat": 4,
 "nbformat_minor": 5
}
